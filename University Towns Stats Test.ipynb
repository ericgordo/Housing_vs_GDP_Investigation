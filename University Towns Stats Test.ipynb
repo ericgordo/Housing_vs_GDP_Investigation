{
 "cells": [
  {
   "cell_type": "markdown",
   "metadata": {},
   "source": [
    "# Median Housing Price and the 2008 Recession\n",
    "# A Data Investigation by Eric Gordon\n",
    "\n",
    "**How did the 2008 Recession Affect the the Price of Houses Throughout America?\n",
    "Which Cities Were Hit the Hardest?** \n",
    "\n",
    "This project looks to answer these two questions, and investigate other data publically availible online. Because this data is a cross analysis of the economic prosperity of the United States, and the median house sale price of homes, there will be two major sources of data.\n",
    "\n",
    "First, to investigate the recession and prosperity of the american economy, \n",
    "\n",
    "**Data**\n",
    "* From Bureau of Economic Analysis, US Department of Commerce, the \"Current-dollar and 'real' GDP\" file [from this website.](http://www.bea.gov/national/index.htm#gdp) This file gives historical GDP levels of the United States in quarterly intervals, and was used in the first part of this report. This data can be found in the file _gdplev.xls_ in my github repository or downloaded [Here](https://www.bea.gov/national/xls/gdplev.xls). \n",
    "\n",
    "* From the [Zillow research data site](http://www.zillow.com/research/data/) The datafile for [all homes at a city level](http://files.zillowstatic.com/research/public/City/City_Zhvi_AllHomes.csv),  was used to measure the average home sale of houses throughout the united states. This data can be found in the file _City_Zhvi_AllHomes.csv_, in my github repository. This file has median home sale prices by the city and state level.\n",
    "\n",
    "Three definitions I will be using are also listed below.\n",
    "\n",
    "**Definitions:**\n",
    "* A _quarter_ is a specific three month period, Q1 is January through March, Q2 is April through June, Q3 is July through September, Q4 is October through December.\n",
    "* A _recession_ is defined as starting with two consecutive quarters of GDP decline, and ending with two consecutive quarters of GDP growth.\n",
    "* A _recession bottom_ is the quarter within a recession which had the lowest GDP."
   ]
  },
  {
   "cell_type": "markdown",
   "metadata": {},
   "source": [
    "## GDP Investigation\n",
    "\n",
    "First we will just look at the national GDP to get a sense of the overal economy over the past 16 years. Additionally we will find specific start and end dates of the recession. "
   ]
  },
  {
   "cell_type": "code",
   "execution_count": 202,
   "metadata": {
    "collapsed": true
   },
   "outputs": [],
   "source": [
    "import pandas as pd\n",
    "import numpy as np\n",
    "from scipy.stats import ttest_ind\n",
    "from ggplot import *\n",
    "import matplotlib.pyplot as plt\n",
    "import seaborn as sns\n",
    "%matplotlib inline"
   ]
  },
  {
   "cell_type": "code",
   "execution_count": 204,
   "metadata": {
    "collapsed": false,
    "scrolled": false
   },
   "outputs": [
    {
     "data": {
      "text/html": [
       "<div>\n",
       "<table border=\"1\" class=\"dataframe\">\n",
       "  <thead>\n",
       "    <tr style=\"text-align: right;\">\n",
       "      <th></th>\n",
       "      <th>index</th>\n",
       "      <th>Quarter</th>\n",
       "      <th>GDP in 2009 Dollars</th>\n",
       "      <th>Change</th>\n",
       "    </tr>\n",
       "  </thead>\n",
       "  <tbody>\n",
       "    <tr>\n",
       "      <th>0</th>\n",
       "      <td>212</td>\n",
       "      <td>2000q1</td>\n",
       "      <td>12359.1</td>\n",
       "      <td>35.8</td>\n",
       "    </tr>\n",
       "    <tr>\n",
       "      <th>1</th>\n",
       "      <td>213</td>\n",
       "      <td>2000q2</td>\n",
       "      <td>12592.5</td>\n",
       "      <td>233.4</td>\n",
       "    </tr>\n",
       "    <tr>\n",
       "      <th>2</th>\n",
       "      <td>214</td>\n",
       "      <td>2000q3</td>\n",
       "      <td>12607.7</td>\n",
       "      <td>15.2</td>\n",
       "    </tr>\n",
       "    <tr>\n",
       "      <th>3</th>\n",
       "      <td>215</td>\n",
       "      <td>2000q4</td>\n",
       "      <td>12679.3</td>\n",
       "      <td>71.6</td>\n",
       "    </tr>\n",
       "    <tr>\n",
       "      <th>4</th>\n",
       "      <td>216</td>\n",
       "      <td>2001q1</td>\n",
       "      <td>12643.3</td>\n",
       "      <td>-36.0</td>\n",
       "    </tr>\n",
       "  </tbody>\n",
       "</table>\n",
       "</div>"
      ],
      "text/plain": [
       "   index Quarter  GDP in 2009 Dollars  Change\n",
       "0    212  2000q1              12359.1    35.8\n",
       "1    213  2000q2              12592.5   233.4\n",
       "2    214  2000q3              12607.7    15.2\n",
       "3    215  2000q4              12679.3    71.6\n",
       "4    216  2001q1              12643.3   -36.0"
      ]
     },
     "execution_count": 204,
     "metadata": {},
     "output_type": "execute_result"
    }
   ],
   "source": [
    "def get_gdp_df():\n",
    "    '''Returns a DataFrame of the quarters, GDP(in 2009 dollars), and change from previous quarter\n",
    "    from 2000q1 until 2016q2. \n",
    "    '''\n",
    "    gdp_data = pd.read_excel('gdplev.xls', names=['Quarter','GDP in 2009 Dollars'],parse_cols=[4,6], skiprows=7)\n",
    "    gdp_data['Change'] = gdp_data['GDP in 2009 Dollars'].diff()\n",
    "    start = np.where(gdp_data['Quarter']=='2000q1')[0][0]\n",
    "    gdp_data = gdp_data[start:]\n",
    "    gdp_data.reset_index(inplace=True)\n",
    "    return gdp_data\n",
    "           \n",
    "get_gdp_df().head()"
   ]
  },
  {
   "cell_type": "code",
   "execution_count": 205,
   "metadata": {
    "collapsed": true
   },
   "outputs": [],
   "source": [
    "def fix_quarter_values(series):\n",
    "    \"\"\"Returns List of Years with decimals instead of quarters.\n",
    "    \"\"\"\n",
    "    x_values = []\n",
    "    quarter_dict = {'q1':0,'q2':.25,'q3':.5,'q4':.75}\n",
    "    for item in series:\n",
    "        quarter = item[-2:]\n",
    "        new_name = int(item[:4]) + quarter_dict[quarter]\n",
    "        x_values.append(new_name)\n",
    "    return x_values   "
   ]
  },
  {
   "cell_type": "code",
   "execution_count": 206,
   "metadata": {
    "collapsed": false
   },
   "outputs": [
    {
     "data": {
      "text/plain": [
       "<matplotlib.text.Text at 0x12c57a710>"
      ]
     },
     "execution_count": 206,
     "metadata": {},
     "output_type": "execute_result"
    },
    {
     "data": {
      "image/png": "[encoded data removed]",
      "text/plain": [
       "<matplotlib.figure.Figure at 0x12cb228d0>"
      ]
     },
     "metadata": {},
     "output_type": "display_data"
    }
   ],
   "source": [
    "#DataFrame\n",
    "gdp_df = get_gdp_df()\n",
    "\n",
    "gdp_df['Quarter'] = fix_quarter_values(gdp_df['Quarter'])\n",
    "\n",
    "plt.figure(figsize=(12,8))\n",
    "plt.plot(gdp_df['Quarter'],gdp_df['GDP in 2009 Dollars'])\n",
    "plt.xlabel('Year', fontsize=14)\n",
    "plt.ylabel('GDP in 2009 Dollars', fontsize=14)\n",
    "plt.title('GDP of United States Since 2000',fontsize=16)"
   ]
  },
  {
   "cell_type": "markdown",
   "metadata": {},
   "source": [
    "This Graph shows that the GDP of the united states seemed to be steadily increasing from 2000 until 2008, in which there seemed to be a sharp downward turn in the GDP. Eventually the GDP seemed to resume a steady increase in GDP, which marked the turn around of the financial crisis.\n",
    "\n",
    "This data is more a vizualization of the acctual occurance of the financial crisis of 2008. This project will further investigate how this crisis affected the housing market, and the median price of homes. To do this, we will need to be able to gather the acctual dates of the recession, which we will get below. "
   ]
  },
  {
   "cell_type": "code",
   "execution_count": 212,
   "metadata": {
    "collapsed": false
   },
   "outputs": [
    {
     "name": "stdout",
     "output_type": "stream",
     "text": [
      "Recession Date Range\n",
      "Start: 2008q3     End: 2009q4\n",
      "\n",
      "Recession Bottom: 2009q2\n"
     ]
    }
   ],
   "source": [
    "def get_recession_start():\n",
    "    '''Returns the year and quarter of the recession start time as a \n",
    "    string value in the format yyyyq#'''\n",
    "    \n",
    "    gdp_data = get_gdp_df()\n",
    "    for i,item in gdp_data.iterrows():\n",
    "        if item['Change']<0 and gdp_data.loc[i+1]['Change']<0:\n",
    "            return gdp_data.loc[i]['Quarter']\n",
    "        \n",
    "def get_recession_end():\n",
    "    '''Returns the year and quarter of the recession end time as a \n",
    "    string value in the format yyyyq#'''\n",
    "    \n",
    "    #Find location of recession start\n",
    "    gdp_data = get_gdp_df()\n",
    "    recession_start = get_recession_start()\n",
    "    start_index = gdp_data[gdp_data['Quarter'] == recession_start].index.tolist()[0]\n",
    "    \n",
    "    #Now find Recession End\n",
    "    gdp_data = gdp_data[start_index:]\n",
    "    for i,item in gdp_data.iterrows():\n",
    "        if item['Change']>0 and gdp_data.loc[i+1]['Change']>0:\n",
    "            return gdp_data.loc[i+1]['Quarter']  \n",
    "def get_recession_bottom():\n",
    "    '''Returns the year and quarter of the recession bottom time as a \n",
    "    string value in the format yyyyq#'''\n",
    "    gdp_data = get_gdp_df()\n",
    "    recession_start = get_recession_start()\n",
    "    start_index = gdp_data[gdp_data['Quarter'] == recession_start].index.tolist()[0]\n",
    "    recession_end = get_recession_end()\n",
    "    end_index = gdp_data[gdp_data['Quarter'] == recession_end].index.tolist()[0]\n",
    "    gdp_data = gdp_data[start_index:end_index]\n",
    "    min_index = gdp_data['GDP in 2009 Dollars'].argmin()\n",
    "    return gdp_data.loc[min_index]['Quarter']    \n",
    "    \n",
    "print \"Recession Date Range\"\n",
    "print \"Start:\",get_recession_start(),\"    End:\", get_recession_end()\n",
    "print\n",
    "print \"Recession Bottom:\",get_recession_bottom()"
   ]
  },
  {
   "cell_type": "markdown",
   "metadata": {},
   "source": [
    "The clear dates associated with this project are therefore the following:\n",
    "* The Recession officially started in the third quarter of 2008.\n",
    "* The country was officially out of the recession by the end of 2009.\n",
    "* The economy was at its worst during quarter 2 of 2009. \n",
    "\n",
    "\n",
    "With this now noticed, let's take a look at the housing data. \n",
    "\n",
    "## Housing Data Investigation"
   ]
  },
  {
   "cell_type": "code",
   "execution_count": 213,
   "metadata": {
    "collapsed": false
   },
   "outputs": [],
   "source": [
    "# Dictionary to map two letter acronyms to full State Names\n",
    "states = {'OH': 'Ohio', 'KY': 'Kentucky', 'AS': 'American Samoa', 'NV': 'Nevada', 'WY': 'Wyoming', 'NA': 'National', 'AL': 'Alabama',  'MD': 'Maryland', 'AK': 'Alaska', 'UT': 'Utah', 'OR': 'Oregon', 'MT': 'Montana', 'IL': 'Illinois', 'TN': 'Tennessee', 'DC': 'District of Columbia', 'VT': 'Vermont', 'ID': 'Idaho', 'AR': 'Arkansas', 'ME': 'Maine', 'WA': 'Washington', 'HI': 'Hawaii', 'WI': 'Wisconsin', 'MI': 'Michigan', 'IN': 'Indiana', 'NJ': 'New Jersey', 'AZ': 'Arizona', 'GU': 'Guam', 'MS': 'Mississippi', 'PR': 'Puerto Rico', 'NC': 'North Carolina', 'TX': 'Texas', 'SD': 'South Dakota', 'MP': 'Northern Mariana Islands', 'IA': 'Iowa', 'MO': 'Missouri', 'CT': 'Connecticut', 'WV': 'West Virginia', 'SC': 'South Carolina', 'LA': 'Louisiana', 'KS': 'Kansas', 'NY': 'New York', 'NE': 'Nebraska', 'OK': 'Oklahoma', 'FL': 'Florida', 'CA': 'California', 'CO': 'Colorado', 'PA': 'Pennsylvania', 'DE': 'Delaware', 'NM': 'New Mexico', 'RI': 'Rhode Island', 'MN': 'Minnesota', 'VI': 'Virgin Islands', 'NH': 'New Hampshire', 'MA': 'Massachusetts', 'GA': 'Georgia', 'ND': 'North Dakota', 'VA': 'Virginia'} "
   ]
  },
  {
   "cell_type": "code",
   "execution_count": 214,
   "metadata": {
    "collapsed": false,
    "scrolled": true
   },
   "outputs": [
    {
     "data": {
      "text/html": [
       "<div>\n",
       "<table border=\"1\" class=\"dataframe\">\n",
       "  <thead>\n",
       "    <tr style=\"text-align: right;\">\n",
       "      <th></th>\n",
       "      <th>State</th>\n",
       "      <th>RegionName</th>\n",
       "      <th>2000q1</th>\n",
       "      <th>2000q2</th>\n",
       "      <th>2000q3</th>\n",
       "      <th>2000q4</th>\n",
       "      <th>2001q1</th>\n",
       "      <th>2001q2</th>\n",
       "      <th>2001q3</th>\n",
       "      <th>2001q4</th>\n",
       "      <th>...</th>\n",
       "      <th>2014q3</th>\n",
       "      <th>2014q4</th>\n",
       "      <th>2015q1</th>\n",
       "      <th>2015q2</th>\n",
       "      <th>2015q3</th>\n",
       "      <th>2015q4</th>\n",
       "      <th>2016q1</th>\n",
       "      <th>2016q2</th>\n",
       "      <th>2016q3</th>\n",
       "      <th>2016q4</th>\n",
       "    </tr>\n",
       "  </thead>\n",
       "  <tbody>\n",
       "    <tr>\n",
       "      <th>0</th>\n",
       "      <td>New York</td>\n",
       "      <td>New York</td>\n",
       "      <td>NaN</td>\n",
       "      <td>NaN</td>\n",
       "      <td>NaN</td>\n",
       "      <td>NaN</td>\n",
       "      <td>NaN</td>\n",
       "      <td>NaN</td>\n",
       "      <td>NaN</td>\n",
       "      <td>NaN</td>\n",
       "      <td>...</td>\n",
       "      <td>518933.333333</td>\n",
       "      <td>521800.000000</td>\n",
       "      <td>523566.666667</td>\n",
       "      <td>532500.000000</td>\n",
       "      <td>548000.000000</td>\n",
       "      <td>561466.666667</td>\n",
       "      <td>572633.333333</td>\n",
       "      <td>585333.333333</td>\n",
       "      <td>602300.000000</td>\n",
       "      <td>620933.333333</td>\n",
       "    </tr>\n",
       "    <tr>\n",
       "      <th>1</th>\n",
       "      <td>California</td>\n",
       "      <td>Los Angeles</td>\n",
       "      <td>207066.666667</td>\n",
       "      <td>214466.666667</td>\n",
       "      <td>220966.666667</td>\n",
       "      <td>226166.666667</td>\n",
       "      <td>233000.000000</td>\n",
       "      <td>239100.000000</td>\n",
       "      <td>245066.666667</td>\n",
       "      <td>253033.333333</td>\n",
       "      <td>...</td>\n",
       "      <td>508966.666667</td>\n",
       "      <td>517833.333333</td>\n",
       "      <td>526933.333333</td>\n",
       "      <td>535566.666667</td>\n",
       "      <td>545033.333333</td>\n",
       "      <td>556866.666667</td>\n",
       "      <td>568266.666667</td>\n",
       "      <td>581433.333333</td>\n",
       "      <td>590133.333333</td>\n",
       "      <td>604533.333333</td>\n",
       "    </tr>\n",
       "    <tr>\n",
       "      <th>2</th>\n",
       "      <td>Illinois</td>\n",
       "      <td>Chicago</td>\n",
       "      <td>138400.000000</td>\n",
       "      <td>143633.333333</td>\n",
       "      <td>147866.666667</td>\n",
       "      <td>152133.333333</td>\n",
       "      <td>156933.333333</td>\n",
       "      <td>161800.000000</td>\n",
       "      <td>166400.000000</td>\n",
       "      <td>170433.333333</td>\n",
       "      <td>...</td>\n",
       "      <td>190166.666667</td>\n",
       "      <td>193566.666667</td>\n",
       "      <td>194900.000000</td>\n",
       "      <td>198900.000000</td>\n",
       "      <td>201533.333333</td>\n",
       "      <td>202700.000000</td>\n",
       "      <td>204033.333333</td>\n",
       "      <td>205833.333333</td>\n",
       "      <td>207866.666667</td>\n",
       "      <td>212300.000000</td>\n",
       "    </tr>\n",
       "    <tr>\n",
       "      <th>3</th>\n",
       "      <td>Pennsylvania</td>\n",
       "      <td>Philadelphia</td>\n",
       "      <td>53000.000000</td>\n",
       "      <td>53633.333333</td>\n",
       "      <td>54133.333333</td>\n",
       "      <td>54700.000000</td>\n",
       "      <td>55333.333333</td>\n",
       "      <td>55533.333333</td>\n",
       "      <td>56266.666667</td>\n",
       "      <td>57533.333333</td>\n",
       "      <td>...</td>\n",
       "      <td>115966.666667</td>\n",
       "      <td>116633.333333</td>\n",
       "      <td>116766.666667</td>\n",
       "      <td>117800.000000</td>\n",
       "      <td>120533.333333</td>\n",
       "      <td>122166.666667</td>\n",
       "      <td>123833.333333</td>\n",
       "      <td>126100.000000</td>\n",
       "      <td>130500.000000</td>\n",
       "      <td>132566.666667</td>\n",
       "    </tr>\n",
       "    <tr>\n",
       "      <th>4</th>\n",
       "      <td>Arizona</td>\n",
       "      <td>Phoenix</td>\n",
       "      <td>111833.333333</td>\n",
       "      <td>114366.666667</td>\n",
       "      <td>116000.000000</td>\n",
       "      <td>117400.000000</td>\n",
       "      <td>119600.000000</td>\n",
       "      <td>121566.666667</td>\n",
       "      <td>122700.000000</td>\n",
       "      <td>124300.000000</td>\n",
       "      <td>...</td>\n",
       "      <td>167500.000000</td>\n",
       "      <td>170533.333333</td>\n",
       "      <td>173333.333333</td>\n",
       "      <td>176500.000000</td>\n",
       "      <td>180500.000000</td>\n",
       "      <td>185166.666667</td>\n",
       "      <td>189066.666667</td>\n",
       "      <td>193166.666667</td>\n",
       "      <td>198566.666667</td>\n",
       "      <td>202833.333333</td>\n",
       "    </tr>\n",
       "  </tbody>\n",
       "</table>\n",
       "<p>5 rows × 70 columns</p>\n",
       "</div>"
      ],
      "text/plain": [
       "          State    RegionName         2000q1         2000q2         2000q3  \\\n",
       "0      New York      New York            NaN            NaN            NaN   \n",
       "1    California   Los Angeles  207066.666667  214466.666667  220966.666667   \n",
       "2      Illinois       Chicago  138400.000000  143633.333333  147866.666667   \n",
       "3  Pennsylvania  Philadelphia   53000.000000   53633.333333   54133.333333   \n",
       "4       Arizona       Phoenix  111833.333333  114366.666667  116000.000000   \n",
       "\n",
       "          2000q4         2001q1         2001q2         2001q3         2001q4  \\\n",
       "0            NaN            NaN            NaN            NaN            NaN   \n",
       "1  226166.666667  233000.000000  239100.000000  245066.666667  253033.333333   \n",
       "2  152133.333333  156933.333333  161800.000000  166400.000000  170433.333333   \n",
       "3   54700.000000   55333.333333   55533.333333   56266.666667   57533.333333   \n",
       "4  117400.000000  119600.000000  121566.666667  122700.000000  124300.000000   \n",
       "\n",
       "       ...               2014q3         2014q4         2015q1         2015q2  \\\n",
       "0      ...        518933.333333  521800.000000  523566.666667  532500.000000   \n",
       "1      ...        508966.666667  517833.333333  526933.333333  535566.666667   \n",
       "2      ...        190166.666667  193566.666667  194900.000000  198900.000000   \n",
       "3      ...        115966.666667  116633.333333  116766.666667  117800.000000   \n",
       "4      ...        167500.000000  170533.333333  173333.333333  176500.000000   \n",
       "\n",
       "          2015q3         2015q4         2016q1         2016q2         2016q3  \\\n",
       "0  548000.000000  561466.666667  572633.333333  585333.333333  602300.000000   \n",
       "1  545033.333333  556866.666667  568266.666667  581433.333333  590133.333333   \n",
       "2  201533.333333  202700.000000  204033.333333  205833.333333  207866.666667   \n",
       "3  120533.333333  122166.666667  123833.333333  126100.000000  130500.000000   \n",
       "4  180500.000000  185166.666667  189066.666667  193166.666667  198566.666667   \n",
       "\n",
       "          2016q4  \n",
       "0  620933.333333  \n",
       "1  604533.333333  \n",
       "2  212300.000000  \n",
       "3  132566.666667  \n",
       "4  202833.333333  \n",
       "\n",
       "[5 rows x 70 columns]"
      ]
     },
     "execution_count": 214,
     "metadata": {},
     "output_type": "execute_result"
    }
   ],
   "source": [
    "# First need to create function to access Data\n",
    "def convert_housing_data_to_quarters():\n",
    "    '''Takes the housing data and converts it to a Dataframe with \n",
    "    average GDP per quarter from 2000-2016.\n",
    "    '''\n",
    "    #Set Up City DataFrame\n",
    "    city_data = pd.read_csv('City_Zhvi_AllHomes.csv')\n",
    "    city_data['State'].replace(states, inplace=True)\n",
    "    city_data.set_index([\"State\",\"RegionName\"], inplace=True)\n",
    "    city_data.drop(city_data.columns[0:4], axis=1, inplace=True)\n",
    "    \n",
    "    #Fix Names of Columns\n",
    "    new_columns=[]\n",
    "    for column in city_data:\n",
    "        new_columns.append(pd.to_datetime(column))\n",
    "    city_data.columns = new_columns\n",
    "    \n",
    "    #Reformat DataFrame\n",
    "    city_data = city_data.loc[:,\"2000\":]\n",
    "    city_data = city_data.resample('QS', axis=1).mean()\n",
    "    \n",
    "    #Fix Nameing of Columns\n",
    "    city_data = city_data.rename(columns=lambda x: timestamp_to_quarter(x))\n",
    "    city_data.reset_index(inplace = True)\n",
    "    \n",
    "    return city_data\n",
    "\n",
    "def timestamp_to_quarter(time):\n",
    "    '''Helper Function to change months to Quarter ID in above function\n",
    "    '''\n",
    "    if time.month==1:\n",
    "        quarter='q1'\n",
    "    if time.month==4:\n",
    "        quarter='q2'\n",
    "    if time.month==7:\n",
    "        quarter='q3'\n",
    "    if time.month==10:\n",
    "        quarter='q4'\n",
    "    return str(time.year) + quarter\n",
    "\n",
    "convert_housing_data_to_quarters().head()"
   ]
  },
  {
   "cell_type": "markdown",
   "metadata": {},
   "source": [
    "The above function will be used to gather the data. First let's vizualize how the median home price has changed over time on average accross the country. "
   ]
  },
  {
   "cell_type": "code",
   "execution_count": 241,
   "metadata": {
    "collapsed": false,
    "scrolled": false
   },
   "outputs": [
    {
     "data": {
      "text/plain": [
       "2006.5"
      ]
     },
     "execution_count": 241,
     "metadata": {},
     "output_type": "execute_result"
    },
    {
     "data": {
      "image/png": "[encoded data removed]",
      "text/plain": [
       "<matplotlib.figure.Figure at 0x12a0bfb10>"
      ]
     },
     "metadata": {},
     "output_type": "display_data"
    }
   ],
   "source": [
    "all_cities = convert_housing_data_to_quarters()\n",
    "all_cities_mean = all_cities.mean()\n",
    "all_cities_mean.index = fix_quarter_values(all_cities_mean.index)\n",
    "\n",
    "#Plot\n",
    "plt.figure(figsize=(12,8))\n",
    "all_cities_mean.plot()\n",
    "plt.xlabel('Year', fontsize=14)\n",
    "plt.ylabel('Median House Price', fontsize=14)\n",
    "plt.title('Nationwide Median House Price',fontsize=16)\n",
    "plt.axvline(x=2008.5, linestyle='--',color='r')\n",
    "plt.axvline(x=2009.75, linestyle='--',color='r')\n",
    "all_cities_mean.argmax()"
   ]
  },
  {
   "cell_type": "markdown",
   "metadata": {},
   "source": [
    "Unlike the GDP it seems that the average median housing price started to decrease before the recession started(denoted with the red lines),and continued to decrease after the recession ended. The recession was just a small portion of the time that the average home value was decreasing. For several years after the recession, housing prices were still decreasing Housing prices nationwide seem to still not have reached the same price as they were at their peak of 2006 quarter 3. \n",
    "\n",
    "\n",
    "There is a clear trend that the average price of a house in america reached its peak in 2006, and prices have not reached this peak since. However I want to investigate a few unique cities to see if this trend holds true in particular urban centers. These cities were chosen for no particular reason, and I am open to hearing more interesting cities worth investigating. "
   ]
  },
  {
   "cell_type": "code",
   "execution_count": 242,
   "metadata": {
    "collapsed": false,
    "scrolled": false
   },
   "outputs": [
    {
     "data": {
      "text/plain": [
       "<matplotlib.text.Text at 0x12e285890>"
      ]
     },
     "execution_count": 242,
     "metadata": {},
     "output_type": "execute_result"
    },
    {
     "data": {
      "image/png": "[encoded data removed]",
      "text/plain": [
       "<matplotlib.figure.Figure at 0x12a316950>"
      ]
     },
     "metadata": {},
     "output_type": "display_data"
    }
   ],
   "source": [
    "select_cities = all_cities[(all_cities['RegionName']=='New York')|(all_cities['RegionName']=='San Francisco')\\\n",
    "                     |(all_cities['RegionName']=='Dallas')|(all_cities['RegionName']=='Los Angeles')|\\\n",
    "                     (all_cities['RegionName']=='Boston')|(all_cities['RegionName']=='Miami')]\n",
    "select_cities.reset_index(inplace=True, drop=True)\n",
    "six_cities = select_cities.drop([6,7,8,9,10,11,12]).set_index(['RegionName'])\n",
    "to_plot = six_cities.drop('State', axis=1).T\n",
    "to_plot.index = fix_quarter_values(to_plot.index)\n",
    "\n",
    "\n",
    "fs = 12\n",
    "fig, axes =plt.subplots(nrows=2, ncols=3, figsize=(16,8), sharex=True, sharey=True)\n",
    "axes[0,0].plot(to_plot['San Francisco'])\n",
    "axes[0,0].set_title('San Francisco', fontsize=fs)\n",
    "\n",
    "axes[0,1].plot(to_plot['New York'])\n",
    "axes[0,1].set_title('New York', fontsize=fs)\n",
    "\n",
    "axes[0,2].plot(to_plot['Boston'])\n",
    "axes[0,2].set_title('Boston', fontsize=fs)\n",
    "\n",
    "axes[1,0].plot(to_plot['Los Angeles'])\n",
    "axes[1,0].set_title('Los Angeles', fontsize=fs)\n",
    "\n",
    "axes[1,1].plot(to_plot['Miami'])\n",
    "axes[1,1].set_title('Miami', fontsize=fs)\n",
    "\n",
    "axes[1,2].plot(to_plot['Dallas'])\n",
    "axes[1,2].set_title('Dallas', fontsize=fs)\n"
   ]
  },
  {
   "cell_type": "markdown",
   "metadata": {},
   "source": [
    "There are clear differences between these cities I chose, and I am sure that each city would tell its own story. While San Francisco seemed to barely decrease in brice, and already has far surpassed its previous high. Then a city like Dallas seemed to have barely fluctuated. This is very interesting, noticing Ann Arbor, barely moved in price.\n",
    "\n",
    "To further investigate, I want to create a tool to measure the ratio in differences from price from peak, too low. This will help evaluate which cities have seen a larger dip in prices compared to others. \n",
    "\n",
    "## Defining Price Ratio, and Looking at Cities\n",
    "\n",
    "We will use the following definition of price ratio to show the price ratio of each city:\n",
    "\n",
    "$$Price Ratio = \\frac{Median\\, Price\\, of\\, Home\\, in\\, 2008q2}{Median\\, Price\\, of\\, Home\\, in\\, 2009q2}$$\n",
    "\n",
    "Where 2008q2 is the quarter before the recession started, and 2009q2 is the bottom of the recession."
   ]
  },
  {
   "cell_type": "code",
   "execution_count": 243,
   "metadata": {
    "collapsed": false,
    "scrolled": true
   },
   "outputs": [
    {
     "name": "stdout",
     "output_type": "stream",
     "text": [
      "Bottom 20:\n",
      "State        RegionName  \n",
      "Mississippi  Smithville      0.645473\n",
      "             Foxworth        0.648588\n",
      "             Nettleton       0.659154\n",
      "Montana      Belt            0.688914\n",
      "Mississippi  Corinth         0.689612\n",
      "             Glen            0.690175\n",
      "New Mexico   Lamy            0.716361\n",
      "             Silver City     0.719230\n",
      "Mississippi  Farmington      0.731057\n",
      "             Columbia        0.734120\n",
      "New Mexico   Mesilla Park    0.747928\n",
      "             Mesquite        0.758108\n",
      "             Santa Fe        0.760255\n",
      "Mississippi  Terry           0.761579\n",
      "Montana      Clinton         0.766502\n",
      "Mississippi  Enterprise      0.771135\n",
      "Montana      Huson           0.772856\n",
      "Louisiana    Choudrant       0.775973\n",
      "             Marksville      0.776655\n",
      "Mississippi  Aberdeen        0.777536\n",
      "Name: Price Ratio, dtype: float64\n",
      "\n",
      "Top 20:\n",
      "State       RegionName       \n",
      "Florida     Naranja              1.675539\n",
      "California  Winton               1.676842\n",
      "Florida     Opa-locka            1.683168\n",
      "            Ojus                 1.686880\n",
      "California  East Palo Alto       1.695971\n",
      "Florida     Goulds               1.696298\n",
      "            Carol City           1.696462\n",
      "California  Hesperia             1.709439\n",
      "Florida     Florida City         1.728019\n",
      "California  Kennedy              1.733894\n",
      "            Patterson            1.740343\n",
      "            Moreno Valley        1.741397\n",
      "            San Bernardino       1.752163\n",
      "            Greenfield           1.752709\n",
      "            Victorville          1.755888\n",
      "Florida     North Miami Beach    1.780379\n",
      "            Leisure City         1.792486\n",
      "California  Colton               1.806385\n",
      "            Bloomington          1.811668\n",
      "Florida     Lehigh Acres         1.936279\n",
      "Name: Price Ratio, dtype: float64\n"
     ]
    }
   ],
   "source": [
    "def get_price_ratio():\n",
    "    '''Create dataframe with Price Ratio, of how much the price changed over time\n",
    "    Returns Dataframe with State, Region, and Price Ratio Calculation.\n",
    "    '''\n",
    "    city_data = convert_housing_data_to_quarters()\n",
    "    recession_bottom = get_recession_bottom()\n",
    "    quart_s_rec = pd.to_datetime(get_recession_start())\n",
    "    quart_b_rec = '{:}q{:}'.format(quart_s_rec.year, quart_s_rec.quarter-1)\n",
    "    city_data['Price Ratio'] = city_data[quart_b_rec].div(city_data[recession_bottom])\n",
    "    city_data.set_index(['State','RegionName'], inplace=True)\n",
    "    return city_data['Price Ratio']\n",
    "\n",
    "price_ratio = get_price_ratio()\n",
    "price_ratio.dropna(inplace=True)\n",
    "price_ratio.sort_values(inplace=True)\n",
    "\n",
    "\n",
    "print \"Bottom 20:\"\n",
    "print price_ratio[:20]\n",
    "\n",
    "print\"\"\n",
    "print \"Top 20:\"\n",
    "print price_ratio[-20:]"
   ]
  },
  {
   "cell_type": "markdown",
   "metadata": {},
   "source": [
    "It seems that the least affected cities seemed to come from states and regions noted for often being rural, and not known for being highly populated. The most affected cities clearly seem to be from Florida and California, two states having large populations, and large amounts of land. \n",
    "\n",
    "# University Towns Vs. Other Housing Markets\n",
    "## Statistical Test And Analysis\n",
    "\n",
    "One thought worth invetigating, is taking a look if there are any general types of cities that are less affected by a recession than others. And one thought came to mind from an idea I had read about previously, that students tend to go to college during recessions. Thus I would assume that homes would be more in demand at university towns during recessions. Thus I wanted to test the following hypothesis using a statistical t-test. \n",
    "\n",
    "**Hypothesis**: University towns have their mean housing prices less effected by recessions than other types of towns. \n",
    "\n",
    "Here will be our definition of university town\n",
    "* A _university town_ is a city which has a high percentage of university students compared to the total population of the city.\n",
    "\n",
    "I will use the list of college towns from wikipedia to determine my list of college towns.[university towns in the United States](https://en.wikipedia.org/wiki/List_of_college_towns#College_towns_in_the_United_States) This list has beencopy and pasted into the file ```university_towns.txt```.\n"
   ]
  },
  {
   "cell_type": "code",
   "execution_count": 244,
   "metadata": {
    "collapsed": false,
    "scrolled": true
   },
   "outputs": [
    {
     "name": "stdout",
     "output_type": "stream",
     "text": [
      "     State    RegionName\n",
      "0  Alabama        Auburn\n",
      "1  Alabama      Florence\n",
      "2  Alabama  Jacksonville\n",
      "3  Alabama    Livingston\n",
      "4  Alabama    Montevallo\n",
      "\n",
      "525 Total University Towns\n"
     ]
    }
   ],
   "source": [
    "def get_list_of_university_towns():\n",
    "    '''Returns a DataFrame of towns and the states they are in from the \n",
    "    university_towns.txt list.'''\n",
    "    \n",
    "    text_file = open(\"university_towns.txt\", \"r\")\n",
    "    lines = text_file.readlines()\n",
    "    final_list=[]\n",
    "    for item in lines:\n",
    "        if '[edit]' in item:\n",
    "            end = item.find('[')\n",
    "            item = item[:end]\n",
    "            state = item\n",
    "        else:\n",
    "            end = item.find(' (')\n",
    "            item = item[:end]\n",
    "            final_list.append([state, item])\n",
    "    final = pd.DataFrame(final_list, columns=[\"State\", \"RegionName\"] )\n",
    "    return final\n",
    "\n",
    "print get_list_of_university_towns().head()\n",
    "print\n",
    "print len(get_list_of_university_towns()), \"Total University Towns\""
   ]
  },
  {
   "cell_type": "code",
   "execution_count": 245,
   "metadata": {
    "collapsed": false
   },
   "outputs": [],
   "source": [
    "def run_ttest():\n",
    "    '''Function that runs a ttest comparing the university town values to the non-university town values.\n",
    "    \n",
    "    Returns the tuple (different, p, better) where:\n",
    "    \n",
    "    Different:\n",
    "        True if the t-test is True at a p<0.01 (we reject the null hypothesis) \n",
    "        or \n",
    "        different=False if otherwise (we cannot reject the null hypothesis). \n",
    "        \n",
    "    p:\n",
    "        is the exact p value returned from scipy.stats.ttest_ind(). \n",
    "    \n",
    "    better:\n",
    "        Returns either \"university town\" or \"non-university town\"\n",
    "        depending on which has a lower mean price ratio.'''\n",
    "    \n",
    "    #Get Dataframes from helper function\n",
    "    df_college, df_non_college = college_vs_not_split()\n",
    "    \n",
    "    results = ttest_ind(df_college['Price Ratio'], df_non_college['Price Ratio'], nan_policy='omit')\n",
    "    better = 0\n",
    "    p= results.pvalue\n",
    "    if p < .01:\n",
    "        different = True\n",
    "    else:\n",
    "        different = False\n",
    "        \n",
    "    if df_college['Price Ratio'].mean() < df_non_college['Price Ratio'].mean():\n",
    "        better = \"university town\"\n",
    "        \n",
    "    if df_college['Price Ratio'].mean() > df_non_college['Price Ratio'].mean():\n",
    "        better = \"non-university town\"\n",
    "        \n",
    "    return (different, p, better)\n",
    "\n",
    "def college_vs_not_split():\n",
    "    \"\"\"Helper function to split college town dataframe, and non college town dataframe.\n",
    "    \"\"\"\n",
    "    #Get Data\n",
    "    all_cities = pd.DataFrame(get_price_ratio()).reset_index()\n",
    "    college_towns = get_list_of_university_towns()\n",
    "    \n",
    "    #Split Data into Dataframe of College Towns, and Dataframe of Non_College Towns\n",
    "    indicator_df = pd.merge(college_towns, all_cities, how='outer', on=[\"State\",\"RegionName\"],indicator=True)\n",
    "    \n",
    "    df_college = indicator_df[(indicator_df['_merge']=='both')|(indicator_df['_merge']=='left_only')]\n",
    "    df_non_college = indicator_df[(indicator_df['_merge']=='right_only')]\n",
    "    final_college = df_college.drop('_merge', axis=1)\n",
    "    final_not = df_non_college.drop('_merge', axis=1)\n",
    "    return final_college, final_not"
   ]
  },
  {
   "cell_type": "code",
   "execution_count": 246,
   "metadata": {
    "collapsed": false
   },
   "outputs": [
    {
     "data": {
      "text/plain": [
       "(True, 0.0073686391567440272, 'university town')"
      ]
     },
     "execution_count": 246,
     "metadata": {},
     "output_type": "execute_result"
    }
   ],
   "source": [
    "run_ttest()"
   ]
  },
  {
   "cell_type": "code",
   "execution_count": 247,
   "metadata": {
    "collapsed": false,
    "scrolled": true
   },
   "outputs": [
    {
     "name": "stdout",
     "output_type": "stream",
     "text": [
      "College Town Mean Price Ratio: 1.05720417942\n",
      "\n",
      "Other City Mean Price Ratio: 1.0758506228\n"
     ]
    }
   ],
   "source": [
    "df_college, df_non_college = college_vs_not_split()\n",
    "\n",
    "df_college.dropna(inplace=True)\n",
    "df_non_college.dropna(inplace=True)\n",
    "\n",
    "print \"College Town Mean Price Ratio:\", df_college.mean()[0]\n",
    "print\n",
    "print \"Other City Mean Price Ratio:\", df_non_college.mean()[0]"
   ]
  },
  {
   "cell_type": "markdown",
   "metadata": {},
   "source": [
    "The test above shows that there is in fact a statistically significant difference between the mean price ratio between college towns and other towns in the United States. The difference between 1.075 and 1.057 may not seem large, but after running this t test it is statistically significant. That means that there does in fact seem to be a difference bteween the two types of towns beyond just chance. This also shows that University towns are absolutely less affected by the recession than other types of towns. "
   ]
  },
  {
   "cell_type": "markdown",
   "metadata": {},
   "source": [
    "# Conclusions and Final thoughts "
   ]
  },
  {
   "cell_type": "markdown",
   "metadata": {
    "collapsed": false
   },
   "source": []
  },
  {
   "cell_type": "markdown",
   "metadata": {
    "collapsed": true
   },
   "source": [
    "# Work Cited\n",
    "Inspiration for Project came from the University of Michigans Online Class \"Introduction to Data Science in Python\",\n",
    "And can be found in the link below:\n",
    "* https://www.coursera.org/learn/python-data-analysis\n",
    "\n",
    "Housing Data:\n",
    "* http://www.zillow.com/research/data/ \n",
    "* http://files.zillowstatic.com/research/public/City/City_Zhvi_AllHomes.csv\n",
    "\n",
    "GDP Data:\n",
    "* http://www.bea.gov/national/index.htm#gdp\n",
    "\n",
    "College Town List from Wikipedia:\n",
    "* https://en.wikipedia.org/wiki/List_of_college_towns#College_towns_in_the_United_States\n"
   ]
  }
 ],
 "metadata": {
  "coursera": {
   "course_slug": "python-data-analysis",
   "graded_item_id": "Il9Fx",
   "launcher_item_id": "TeDW0",
   "part_id": "WGlun"
  },
  "kernelspec": {
   "display_name": "Python [Root]",
   "language": "python",
   "name": "Python [Root]"
  },
  "language_info": {
   "codemirror_mode": {
    "name": "ipython",
    "version": 2
   },
   "file_extension": ".py",
   "mimetype": "text/x-python",
   "name": "python",
   "nbconvert_exporter": "python",
   "pygments_lexer": "ipython2",
   "version": "2.7.12"
  }
 },
 "nbformat": 4,
 "nbformat_minor": 0
}
